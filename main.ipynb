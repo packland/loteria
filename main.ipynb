{
 "cells": [
  {
   "cell_type": "markdown",
   "metadata": {},
   "source": [
    "# Main\n",
    "\n",
    "## Referencias\n",
    "https://lotterycodex.com/lottery-formula/\n",
    "https://pypi.org/project/loteria-caixa/#description\n",
    "\n",
    "## Objetivos\n",
    "[x] Criar um gerador de apostas aleatorias\n",
    "[x] Criar um gerador de combinacoes possiveis. Ex. Todas as combinacoes possiveis de 4 dezenas dentro dessas 6 dezenas\n",
    "[] Eliminar as combinacoes repetidas\n",
    "[x] Fazer um algoritmo de geração de numeros que considere pares e impares, altos e baixos\n",
    "[x] Pegar todos os resultados da lotofacil\n",
    "[] Gerar um calculador de resultados\n",
    "[] Testar as hipoteses usando os resultados anteriores\n",
    "[] Imprimir as apostas que devem ser feitas "
   ]
  },
  {
   "cell_type": "code",
   "execution_count": 55,
   "metadata": {},
   "outputs": [],
   "source": [
    "# Imports\n",
    "\n",
    "import random\n",
    "from itertools import combinations\n",
    "from loteria_caixa import *\n",
    "import pandas as pd"
   ]
  },
  {
   "cell_type": "code",
   "execution_count": 54,
   "metadata": {},
   "outputs": [],
   "source": [
    "# Funcoes base\n",
    "\n",
    "def do_generate_bet(dezenas, intervalo=100):\n",
    "    return sorted(random.sample(range(1, intervalo+1), dezenas))\n",
    "\n",
    "def do_calculate_combinations(dezenas, grupamento):\n",
    "    return tuple(sorted(combo) for combo in combinations(dezenas, grupamento))\n",
    "\n",
    "def do_calculate_evens_odds(numeros):\n",
    "    saida = {\n",
    "        'pares': 0,\n",
    "        'impares': 0,\n",
    "        'diferenca': 0\n",
    "    }\n",
    "\n",
    "    for numero in numeros:\n",
    "        if numero % 2 == 0:\n",
    "            saida['pares'] += 1\n",
    "        else:\n",
    "            saida['impares'] +=1\n",
    "    \n",
    "    saida['diferenca'] = abs(saida['pares'] - saida['impares'])\n",
    "    return saida\n",
    "\n",
    "def do_calculate_high_low_value(numeros, intervalo=100):\n",
    "    saida = {\n",
    "        'high': 0,\n",
    "        'low': 0,\n",
    "        'diferenca': 0\n",
    "    }\n",
    "\n",
    "    media = do_calculate_range_average(range(1, intervalo + 1))\n",
    "\n",
    "    for numero in numeros:\n",
    "        if numero >= media:\n",
    "            saida['high'] += 1\n",
    "        else:\n",
    "            saida['low'] += 1\n",
    "    saida['diferenca'] = abs(saida['high'] - saida['low'])\n",
    "    \n",
    "    return saida\n",
    "\n",
    "def do_calculate_range_average(intervalo):\n",
    "    if len(intervalo) == 0:\n",
    "        return None\n",
    "    \n",
    "    return round(sum(intervalo)/len(intervalo))\n",
    "\n",
    "def contar_itens(lista_a, lista_b):\n",
    "    saida = 0\n",
    "    for item in lista_a:\n",
    "        if item in lista_b:\n",
    "            saida += 1\n",
    "    return saida\n",
    "\n",
    "def verificar_existencia(lista, tupla):\n",
    "    for sublista in tupla:\n",
    "        if set(lista).issubset(sublista):\n",
    "            return True\n",
    "    return False\n"
   ]
  },
  {
   "cell_type": "code",
   "execution_count": 61,
   "metadata": {},
   "outputs": [
    {
     "data": {
      "text/plain": [
       "{'settings': {'quant_numbers': 15,\n",
       "  'range_numbers': 25,\n",
       "  'quant_bets': 1,\n",
       "  'even_odds': {'evaluate': True, 'number_dif': 1},\n",
       "  'high_low': {'evaluate': True, 'number_dif': 1}},\n",
       " 'bets': [{'bet': [1, 2, 6, 9, 10, 11, 12, 13, 14, 15, 16, 17, 18, 20, 23],\n",
       "   'even_odds': {'pares': 8, 'impares': 7, 'diferenca': 1},\n",
       "   'high_low': {'high': 8, 'low': 7, 'diferenca': 1}}]}"
      ]
     },
     "execution_count": 61,
     "metadata": {},
     "output_type": "execute_result"
    }
   ],
   "source": [
    "#gerar apostas\n",
    "\n",
    "def generate_bets(quant_numbers=6, range_numbers=60, quant_bets=1, even_odds=False, even_odds_dif=1, high_low=False, high_low_dif=1):\n",
    "\n",
    "    settings = {\n",
    "        'quant_numbers': quant_numbers,\n",
    "        'range_numbers': range_numbers,\n",
    "        'quant_bets': quant_bets,\n",
    "        'even_odds': { 'evaluate': even_odds, 'number_dif': even_odds_dif},\n",
    "        'high_low': { 'evaluate': high_low, 'number_dif': high_low_dif},\n",
    "    }\n",
    "\n",
    "    saida = {\n",
    "        'settings': settings,\n",
    "        'bets': []\n",
    "    }\n",
    "\n",
    "    while len(saida['bets']) < settings['quant_bets']:\n",
    "        aposta = do_generate_bet(settings['quant_numbers'], settings['range_numbers'])\n",
    "        even_odds_result = do_calculate_evens_odds(aposta)\n",
    "        high_low_result = do_calculate_high_low_value(aposta, settings['range_numbers'])\n",
    "\n",
    "        dados_aposta = {\n",
    "            'bet': aposta,\n",
    "            'even_odds': even_odds_result,\n",
    "            'high_low': high_low_result\n",
    "        }\n",
    "\n",
    "        if(settings['even_odds']['evaluate'] and not(settings['even_odds']['number_dif'] >= even_odds_result['diferenca'])):\n",
    "            #pular_execucao\n",
    "            continue\n",
    "\n",
    "        if(settings['high_low']['evaluate'] and not(settings['high_low']['number_dif'] >= high_low_result['diferenca'])):\n",
    "            #pular_execucao\n",
    "            continue\n",
    "\n",
    "        saida['bets'].append(dados_aposta)\n",
    "    \n",
    "    return saida\n",
    "\n",
    "teste = generate_bets(quant_bets=1, quant_numbers=15, range_numbers=25, even_odds=True, high_low=True)\n",
    "\n",
    "teste"
   ]
  },
  {
   "cell_type": "code",
   "execution_count": 4,
   "metadata": {},
   "outputs": [
    {
     "data": {
      "text/plain": [
       "[2, 5, 6, 7, 8, 9, 10, 14, 15, 18, 19, 22, 23, 24, 25]"
      ]
     },
     "execution_count": 4,
     "metadata": {},
     "output_type": "execute_result"
    }
   ],
   "source": [
    "aposta"
   ]
  },
  {
   "cell_type": "code",
   "execution_count": 5,
   "metadata": {},
   "outputs": [
    {
     "name": "stdout",
     "output_type": "stream",
     "text": [
      "      sorteio                                            dezenas\n",
      "0        3055  [2, 3, 7, 8, 9, 10, 11, 12, 14, 15, 17, 20, 21...\n",
      "1        3054  [1, 2, 4, 8, 9, 10, 14, 15, 18, 19, 20, 21, 22...\n",
      "2        3053  [2, 4, 5, 7, 8, 12, 13, 14, 16, 17, 18, 19, 21...\n",
      "3        3052  [2, 3, 4, 8, 9, 10, 11, 14, 15, 18, 19, 20, 21...\n",
      "4        3051  [2, 3, 4, 6, 9, 10, 11, 12, 15, 17, 18, 20, 21...\n",
      "...       ...                                                ...\n",
      "3050        5  [1, 2, 4, 8, 9, 11, 12, 13, 15, 16, 19, 20, 23...\n",
      "3051        4  [1, 2, 4, 5, 8, 10, 12, 13, 16, 17, 18, 19, 23...\n",
      "3052        3  [1, 4, 6, 7, 8, 9, 10, 11, 12, 14, 16, 17, 20,...\n",
      "3053        2  [1, 4, 5, 6, 7, 9, 11, 12, 13, 15, 16, 19, 20,...\n",
      "3054        1  [2, 3, 5, 6, 9, 10, 11, 13, 14, 16, 18, 20, 23...\n",
      "\n",
      "[3055 rows x 2 columns]\n"
     ]
    }
   ],
   "source": [
    "\n",
    "df = pd.read_csv('resultados_concursos\\\\resultados_lotofacil.csv')\n",
    "\n",
    "\n",
    "\n",
    "df['dezenas'] = df['dezenas'].str.split(',')\n",
    "\n",
    "# Aplicando uma função para formatar cada string com colchetes\n",
    "df['dezenas'] = df['dezenas'].apply(lambda x: [int(item) for item in x])\n",
    "print(df)\n",
    "#for aposta in apostas:\n"
   ]
  },
  {
   "cell_type": "code",
   "execution_count": 6,
   "metadata": {},
   "outputs": [
    {
     "name": "stdout",
     "output_type": "stream",
     "text": [
      "[1, 2, 3, 5, 6, 9, 10, 12, 13, 15, 20, 22, 23, 24, 25]\n",
      "[2, 3, 7, 8, 9, 10, 11, 12, 14, 15, 17, 20, 21, 22, 23]\n"
     ]
    },
    {
     "data": {
      "text/plain": [
       "9"
      ]
     },
     "execution_count": 6,
     "metadata": {},
     "output_type": "execute_result"
    }
   ],
   "source": [
    "print(apostas[0])\n",
    "print(df['dezenas'].iloc[0])\n",
    "\n",
    "resultado = contar_itens(apostas[0], df['dezenas'].iloc[0])\n",
    "\n",
    "resultado"
   ]
  },
  {
   "cell_type": "code",
   "execution_count": 43,
   "metadata": {},
   "outputs": [
    {
     "name": "stdout",
     "output_type": "stream",
     "text": [
      "{'aposta': [1, 2, 3, 4, 5, 7, 8, 10, 13, 14, 16, 18, 22, 23, 25], 'premiado': 334, 'nao_premiado': 2721, '< 11': 2721, '11': 275, '12': 52, '13': 7, '14': 0, '15': 0}\n",
      "{'aposta': [3, 4, 5, 6, 7, 8, 9, 10, 15, 16, 18, 19, 20, 21, 25], 'premiado': 321, 'nao_premiado': 2734, '< 11': 2734, '11': 252, '12': 59, '13': 10, '14': 0, '15': 0}\n",
      "{'aposta': [1, 2, 3, 6, 10, 11, 12, 13, 14, 15, 16, 17, 18, 24, 25], 'premiado': 307, 'nao_premiado': 2748, '< 11': 2748, '11': 248, '12': 57, '13': 2, '14': 0, '15': 0}\n",
      "{'aposta': [1, 3, 4, 8, 9, 10, 12, 16, 18, 19, 20, 21, 23, 24, 25], 'premiado': 330, 'nao_premiado': 2725, '< 11': 2725, '11': 276, '12': 49, '13': 5, '14': 0, '15': 0}\n",
      "{'aposta': [1, 2, 3, 4, 6, 7, 8, 14, 15, 16, 17, 20, 21, 22, 25], 'premiado': 304, 'nao_premiado': 2751, '< 11': 2751, '11': 253, '12': 48, '13': 3, '14': 0, '15': 0}\n",
      "{'aposta': [2, 4, 5, 6, 8, 9, 12, 13, 15, 19, 20, 21, 22, 23, 24], 'premiado': 321, 'nao_premiado': 2734, '< 11': 2734, '11': 259, '12': 53, '13': 9, '14': 0, '15': 0}\n",
      "{'aposta': [1, 2, 3, 4, 5, 6, 8, 13, 18, 19, 21, 22, 23, 24, 25], 'premiado': 339, 'nao_premiado': 2716, '< 11': 2716, '11': 287, '12': 47, '13': 5, '14': 0, '15': 0}\n",
      "{'aposta': [1, 4, 5, 6, 7, 9, 10, 15, 16, 17, 18, 21, 22, 24, 25], 'premiado': 294, 'nao_premiado': 2761, '< 11': 2761, '11': 248, '12': 45, '13': 1, '14': 0, '15': 0}\n",
      "{'aposta': [1, 4, 5, 6, 7, 8, 9, 12, 13, 16, 17, 20, 21, 22, 25], 'premiado': 286, 'nao_premiado': 2769, '< 11': 2769, '11': 240, '12': 41, '13': 5, '14': 0, '15': 0}\n",
      "{'aposta': [1, 3, 4, 6, 7, 8, 9, 13, 15, 18, 20, 22, 23, 24, 25], 'premiado': 328, 'nao_premiado': 2727, '< 11': 2727, '11': 274, '12': 51, '13': 3, '14': 0, '15': 0}\n"
     ]
    }
   ],
   "source": [
    "apostas = []\n",
    "\n",
    "while len(apostas) < 10:\n",
    "    aposta = do_generate_bet(15, 25)\n",
    "    par_impar = do_calculate_evens_odds(aposta)\n",
    "    high_low = do_calculate_high_low_value(aposta, 25)\n",
    "\n",
    "    if par_impar['diferenca'] < 2 and high_low['diferenca'] < 2:\n",
    "        apostas.append(aposta)\n",
    "\n",
    "estatisticas_apostas = []\n",
    "\n",
    "for aposta in apostas:\n",
    "    saida = {\n",
    "        'aposta': aposta,\n",
    "        'premiado': 0,\n",
    "        'nao_premiado': 0,\n",
    "        '< 11': 0,\n",
    "        '11': 0,\n",
    "        '12': 0,\n",
    "        '13': 0,\n",
    "        '14': 0,\n",
    "        '15': 0\n",
    "    }\n",
    "\n",
    "    for index, row in df.iterrows():\n",
    "        comparacao = contar_itens(aposta, row['dezenas'])\n",
    "        if comparacao > 10:\n",
    "            saida[str(comparacao)] += 1\n",
    "            saida['premiado'] += 1\n",
    "        else:\n",
    "            saida['< 11'] += 1\n",
    "            saida['nao_premiado'] += 1\n",
    "\n",
    "    estatisticas_apostas.append(saida)\n",
    "\n",
    "for resultado in estatisticas_apostas:\n",
    "    print(resultado)"
   ]
  },
  {
   "cell_type": "code",
   "execution_count": 19,
   "metadata": {},
   "outputs": [
    {
     "name": "stdout",
     "output_type": "stream",
     "text": [
      "metricas sorteado: par_impar -  {'pares': 7, 'impares': 8, 'diferenca': 1}  high_low:  {'high': 10, 'low': 5, 'diferenca': 5}\n",
      "{'aposta': [1, 2, 3, 5, 6, 9, 10, 12, 13, 15, 20, 22, 23, 24, 25], 'acertos': 8, 'premiado': 0, 'nao_premiado': 1, '< 11': 1, '11': 0, '12': 0, '13': 0, '14': 0, '15': 0}\n",
      "{'aposta': [1, 2, 3, 5, 6, 8, 9, 14, 15, 18, 19, 20, 23, 24, 25], 'acertos': 9, 'premiado': 0, 'nao_premiado': 1, '< 11': 1, '11': 0, '12': 0, '13': 0, '14': 0, '15': 0}\n",
      "{'aposta': [1, 2, 4, 5, 6, 8, 11, 13, 14, 16, 20, 21, 23, 24, 25], 'acertos': 10, 'premiado': 0, 'nao_premiado': 1, '< 11': 1, '11': 0, '12': 0, '13': 0, '14': 0, '15': 0}\n",
      "{'aposta': [1, 2, 3, 5, 7, 9, 10, 12, 18, 19, 20, 21, 22, 24, 25], 'acertos': 8, 'premiado': 0, 'nao_premiado': 1, '< 11': 1, '11': 0, '12': 0, '13': 0, '14': 0, '15': 0}\n",
      "{'aposta': [1, 2, 5, 6, 8, 9, 11, 13, 14, 15, 16, 18, 23, 24, 25], 'acertos': 9, 'premiado': 0, 'nao_premiado': 1, '< 11': 1, '11': 0, '12': 0, '13': 0, '14': 0, '15': 0}\n",
      "{'aposta': [1, 2, 3, 4, 6, 9, 12, 13, 16, 17, 19, 20, 21, 22, 25], 'acertos': 9, 'premiado': 0, 'nao_premiado': 1, '< 11': 1, '11': 0, '12': 0, '13': 0, '14': 0, '15': 0}\n",
      "{'aposta': [1, 2, 3, 4, 5, 6, 10, 12, 15, 16, 17, 19, 20, 22, 25], 'acertos': 8, 'premiado': 0, 'nao_premiado': 1, '< 11': 1, '11': 0, '12': 0, '13': 0, '14': 0, '15': 0}\n",
      "{'aposta': [1, 3, 4, 6, 9, 10, 11, 12, 13, 14, 16, 18, 19, 21, 23], 'acertos': 10, 'premiado': 0, 'nao_premiado': 1, '< 11': 1, '11': 0, '12': 0, '13': 0, '14': 0, '15': 0}\n",
      "{'aposta': [1, 4, 5, 6, 9, 10, 11, 14, 15, 17, 18, 20, 21, 24, 25], 'acertos': 8, 'premiado': 0, 'nao_premiado': 1, '< 11': 1, '11': 0, '12': 0, '13': 0, '14': 0, '15': 0}\n",
      "{'aposta': [2, 5, 6, 7, 8, 9, 10, 14, 15, 18, 19, 22, 23, 24, 25], 'acertos': 7, 'premiado': 0, 'nao_premiado': 1, '< 11': 1, '11': 0, '12': 0, '13': 0, '14': 0, '15': 0}\n"
     ]
    }
   ],
   "source": [
    "estatisticas_apostas = []\n",
    "resultado_caixa = [[4, 3, 8, 23, 11, 24, 21, 13, 19, 18, 22, 16, 1, 15, 20]]\n",
    "\n",
    "par_impar = do_calculate_evens_odds(resultado_caixa[0])\n",
    "high_low = do_calculate_high_low_value(resultado_caixa[0], 25)\n",
    "\n",
    "print('metricas sorteado: par_impar - ', par_impar, ' high_low: ', high_low)\n",
    "\n",
    "for aposta in apostas:\n",
    "    saida = {\n",
    "        'aposta': aposta,\n",
    "        'acertos': 0,\n",
    "        'premiado': 0,\n",
    "        'nao_premiado': 0,\n",
    "        '< 11': 0,\n",
    "        '11': 0,\n",
    "        '12': 0,\n",
    "        '13': 0,\n",
    "        '14': 0,\n",
    "        '15': 0\n",
    "    }\n",
    "\n",
    "    for row in resultado_caixa:\n",
    "        comparacao = contar_itens(aposta, row)\n",
    "        saida['acertos'] = comparacao\n",
    "        if comparacao > 10:\n",
    "            saida[str(comparacao)] += 1\n",
    "            saida['premiado'] += 1\n",
    "        else:\n",
    "            saida['< 11'] += 1\n",
    "            saida['nao_premiado'] += 1\n",
    "\n",
    "    estatisticas_apostas.append(saida)\n",
    "\n",
    "for resultado in estatisticas_apostas:\n",
    "    print(resultado)"
   ]
  },
  {
   "cell_type": "code",
   "execution_count": null,
   "metadata": {},
   "outputs": [],
   "source": [
    "apostas = combinacoes_possiveis\n",
    "\n",
    "for quina in combinacoes_quina"
   ]
  },
  {
   "cell_type": "code",
   "execution_count": 173,
   "metadata": {},
   "outputs": [
    {
     "name": "stdout",
     "output_type": "stream",
     "text": [
      "------------nova iteracao quina --------------\n",
      "apostas:  []\n",
      "quina:  [2, 13, 21, 35, 39]\n",
      "ja contemplada:  False\n",
      "Fim da iteracao. Apostas atuais:  [[2, 13, 21, 35, 39, 47]]\n",
      "------------nova iteracao quina --------------\n",
      "apostas:  [[2, 13, 21, 35, 39, 47]]\n",
      "quina:  [2, 13, 21, 35, 47]\n",
      "ja contemplada:  True\n",
      "Fim da iteracao. Apostas atuais:  [[2, 13, 21, 35, 39, 47]]\n",
      "------------nova iteracao quina --------------\n",
      "apostas:  [[2, 13, 21, 35, 39, 47]]\n",
      "quina:  [2, 13, 21, 35, 51]\n",
      "ja contemplada:  False\n",
      "Fim da iteracao. Apostas atuais:  [[2, 13, 21, 35, 39, 47], [2, 13, 21, 35, 39, 51]]\n",
      "------------nova iteracao quina --------------\n",
      "apostas:  [[2, 13, 21, 35, 39, 47], [2, 13, 21, 35, 39, 51]]\n",
      "quina:  [2, 13, 21, 39, 47]\n",
      "ja contemplada:  True\n",
      "Fim da iteracao. Apostas atuais:  [[2, 13, 21, 35, 39, 47], [2, 13, 21, 35, 39, 51]]\n",
      "------------nova iteracao quina --------------\n",
      "apostas:  [[2, 13, 21, 35, 39, 47], [2, 13, 21, 35, 39, 51]]\n",
      "quina:  [2, 13, 21, 39, 51]\n",
      "ja contemplada:  True\n",
      "Fim da iteracao. Apostas atuais:  [[2, 13, 21, 35, 39, 47], [2, 13, 21, 35, 39, 51]]\n",
      "------------nova iteracao quina --------------\n",
      "apostas:  [[2, 13, 21, 35, 39, 47], [2, 13, 21, 35, 39, 51]]\n",
      "quina:  [2, 13, 21, 47, 51]\n",
      "ja contemplada:  False\n",
      "Fim da iteracao. Apostas atuais:  [[2, 13, 21, 35, 39, 47], [2, 13, 21, 35, 39, 51], [2, 13, 21, 35, 47, 51]]\n",
      "------------nova iteracao quina --------------\n",
      "apostas:  [[2, 13, 21, 35, 39, 47], [2, 13, 21, 35, 39, 51], [2, 13, 21, 35, 47, 51]]\n",
      "quina:  [2, 13, 35, 39, 47]\n",
      "ja contemplada:  True\n",
      "Fim da iteracao. Apostas atuais:  [[2, 13, 21, 35, 39, 47], [2, 13, 21, 35, 39, 51], [2, 13, 21, 35, 47, 51]]\n",
      "------------nova iteracao quina --------------\n",
      "apostas:  [[2, 13, 21, 35, 39, 47], [2, 13, 21, 35, 39, 51], [2, 13, 21, 35, 47, 51]]\n",
      "quina:  [2, 13, 35, 39, 51]\n",
      "ja contemplada:  True\n",
      "Fim da iteracao. Apostas atuais:  [[2, 13, 21, 35, 39, 47], [2, 13, 21, 35, 39, 51], [2, 13, 21, 35, 47, 51]]\n",
      "------------nova iteracao quina --------------\n",
      "apostas:  [[2, 13, 21, 35, 39, 47], [2, 13, 21, 35, 39, 51], [2, 13, 21, 35, 47, 51]]\n",
      "quina:  [2, 13, 35, 47, 51]\n",
      "ja contemplada:  True\n",
      "Fim da iteracao. Apostas atuais:  [[2, 13, 21, 35, 39, 47], [2, 13, 21, 35, 39, 51], [2, 13, 21, 35, 47, 51]]\n",
      "------------nova iteracao quina --------------\n",
      "apostas:  [[2, 13, 21, 35, 39, 47], [2, 13, 21, 35, 39, 51], [2, 13, 21, 35, 47, 51]]\n",
      "quina:  [2, 13, 39, 47, 51]\n",
      "ja contemplada:  False\n",
      "Fim da iteracao. Apostas atuais:  [[2, 13, 21, 35, 39, 47], [2, 13, 21, 35, 39, 51], [2, 13, 21, 35, 47, 51], [2, 13, 21, 39, 47, 51]]\n",
      "------------nova iteracao quina --------------\n",
      "apostas:  [[2, 13, 21, 35, 39, 47], [2, 13, 21, 35, 39, 51], [2, 13, 21, 35, 47, 51], [2, 13, 21, 39, 47, 51]]\n",
      "quina:  [2, 21, 35, 39, 47]\n",
      "ja contemplada:  True\n",
      "Fim da iteracao. Apostas atuais:  [[2, 13, 21, 35, 39, 47], [2, 13, 21, 35, 39, 51], [2, 13, 21, 35, 47, 51], [2, 13, 21, 39, 47, 51]]\n",
      "------------nova iteracao quina --------------\n",
      "apostas:  [[2, 13, 21, 35, 39, 47], [2, 13, 21, 35, 39, 51], [2, 13, 21, 35, 47, 51], [2, 13, 21, 39, 47, 51]]\n",
      "quina:  [2, 21, 35, 39, 51]\n",
      "ja contemplada:  True\n",
      "Fim da iteracao. Apostas atuais:  [[2, 13, 21, 35, 39, 47], [2, 13, 21, 35, 39, 51], [2, 13, 21, 35, 47, 51], [2, 13, 21, 39, 47, 51]]\n",
      "------------nova iteracao quina --------------\n",
      "apostas:  [[2, 13, 21, 35, 39, 47], [2, 13, 21, 35, 39, 51], [2, 13, 21, 35, 47, 51], [2, 13, 21, 39, 47, 51]]\n",
      "quina:  [2, 21, 35, 47, 51]\n",
      "ja contemplada:  True\n",
      "Fim da iteracao. Apostas atuais:  [[2, 13, 21, 35, 39, 47], [2, 13, 21, 35, 39, 51], [2, 13, 21, 35, 47, 51], [2, 13, 21, 39, 47, 51]]\n",
      "------------nova iteracao quina --------------\n",
      "apostas:  [[2, 13, 21, 35, 39, 47], [2, 13, 21, 35, 39, 51], [2, 13, 21, 35, 47, 51], [2, 13, 21, 39, 47, 51]]\n",
      "quina:  [2, 21, 39, 47, 51]\n",
      "ja contemplada:  True\n",
      "Fim da iteracao. Apostas atuais:  [[2, 13, 21, 35, 39, 47], [2, 13, 21, 35, 39, 51], [2, 13, 21, 35, 47, 51], [2, 13, 21, 39, 47, 51]]\n",
      "------------nova iteracao quina --------------\n",
      "apostas:  [[2, 13, 21, 35, 39, 47], [2, 13, 21, 35, 39, 51], [2, 13, 21, 35, 47, 51], [2, 13, 21, 39, 47, 51]]\n",
      "quina:  [2, 35, 39, 47, 51]\n",
      "ja contemplada:  False\n",
      "Fim da iteracao. Apostas atuais:  [[2, 13, 21, 35, 39, 47], [2, 13, 21, 35, 39, 51], [2, 13, 21, 35, 47, 51], [2, 13, 21, 39, 47, 51], [2, 13, 35, 39, 47, 51]]\n",
      "------------nova iteracao quina --------------\n",
      "apostas:  [[2, 13, 21, 35, 39, 47], [2, 13, 21, 35, 39, 51], [2, 13, 21, 35, 47, 51], [2, 13, 21, 39, 47, 51], [2, 13, 35, 39, 47, 51]]\n",
      "quina:  [13, 21, 35, 39, 47]\n",
      "ja contemplada:  True\n",
      "Fim da iteracao. Apostas atuais:  [[2, 13, 21, 35, 39, 47], [2, 13, 21, 35, 39, 51], [2, 13, 21, 35, 47, 51], [2, 13, 21, 39, 47, 51], [2, 13, 35, 39, 47, 51]]\n",
      "------------nova iteracao quina --------------\n",
      "apostas:  [[2, 13, 21, 35, 39, 47], [2, 13, 21, 35, 39, 51], [2, 13, 21, 35, 47, 51], [2, 13, 21, 39, 47, 51], [2, 13, 35, 39, 47, 51]]\n",
      "quina:  [13, 21, 35, 39, 51]\n",
      "ja contemplada:  True\n",
      "Fim da iteracao. Apostas atuais:  [[2, 13, 21, 35, 39, 47], [2, 13, 21, 35, 39, 51], [2, 13, 21, 35, 47, 51], [2, 13, 21, 39, 47, 51], [2, 13, 35, 39, 47, 51]]\n",
      "------------nova iteracao quina --------------\n",
      "apostas:  [[2, 13, 21, 35, 39, 47], [2, 13, 21, 35, 39, 51], [2, 13, 21, 35, 47, 51], [2, 13, 21, 39, 47, 51], [2, 13, 35, 39, 47, 51]]\n",
      "quina:  [13, 21, 35, 47, 51]\n",
      "ja contemplada:  True\n",
      "Fim da iteracao. Apostas atuais:  [[2, 13, 21, 35, 39, 47], [2, 13, 21, 35, 39, 51], [2, 13, 21, 35, 47, 51], [2, 13, 21, 39, 47, 51], [2, 13, 35, 39, 47, 51]]\n",
      "------------nova iteracao quina --------------\n",
      "apostas:  [[2, 13, 21, 35, 39, 47], [2, 13, 21, 35, 39, 51], [2, 13, 21, 35, 47, 51], [2, 13, 21, 39, 47, 51], [2, 13, 35, 39, 47, 51]]\n",
      "quina:  [13, 21, 39, 47, 51]\n",
      "ja contemplada:  True\n",
      "Fim da iteracao. Apostas atuais:  [[2, 13, 21, 35, 39, 47], [2, 13, 21, 35, 39, 51], [2, 13, 21, 35, 47, 51], [2, 13, 21, 39, 47, 51], [2, 13, 35, 39, 47, 51]]\n",
      "------------nova iteracao quina --------------\n",
      "apostas:  [[2, 13, 21, 35, 39, 47], [2, 13, 21, 35, 39, 51], [2, 13, 21, 35, 47, 51], [2, 13, 21, 39, 47, 51], [2, 13, 35, 39, 47, 51]]\n",
      "quina:  [13, 35, 39, 47, 51]\n",
      "ja contemplada:  True\n",
      "Fim da iteracao. Apostas atuais:  [[2, 13, 21, 35, 39, 47], [2, 13, 21, 35, 39, 51], [2, 13, 21, 35, 47, 51], [2, 13, 21, 39, 47, 51], [2, 13, 35, 39, 47, 51]]\n",
      "------------nova iteracao quina --------------\n",
      "apostas:  [[2, 13, 21, 35, 39, 47], [2, 13, 21, 35, 39, 51], [2, 13, 21, 35, 47, 51], [2, 13, 21, 39, 47, 51], [2, 13, 35, 39, 47, 51]]\n",
      "quina:  [21, 35, 39, 47, 51]\n",
      "ja contemplada:  False\n",
      "Fim da iteracao. Apostas atuais:  [[2, 13, 21, 35, 39, 47], [2, 13, 21, 35, 39, 51], [2, 13, 21, 35, 47, 51], [2, 13, 21, 39, 47, 51], [2, 13, 35, 39, 47, 51], [2, 21, 35, 39, 47, 51]]\n"
     ]
    },
    {
     "data": {
      "text/plain": [
       "6"
      ]
     },
     "execution_count": 173,
     "metadata": {},
     "output_type": "execute_result"
    }
   ],
   "source": [
    "apostas = []\n",
    "# processamento das quinas\n",
    "for quina in combinacoes_quina:\n",
    "    print('------------nova iteracao quina --------------')\n",
    "    ja_contemplada = False\n",
    "    #checa se a quina já está contemplada na lista\n",
    "    for aposta in apostas:\n",
    "        if set(quina).issubset(aposta):\n",
    "            ja_contemplada = True\n",
    "            \n",
    "    \n",
    "    # nao foi contemplada, vamos iterar pelas senas e adicionar a primeira que servir\n",
    "    print('apostas: ', apostas)\n",
    "    print('quina: ', quina)\n",
    "    print('ja contemplada: ', ja_contemplada)\n",
    "    if(not ja_contemplada):\n",
    "        ja_adicionada = False\n",
    "        for sena in combinacoes_sena:\n",
    "            if(set(quina).issubset(sena) and not ja_adicionada ):\n",
    "                apostas.append(sena)\n",
    "                ja_adicionada = True\n",
    "    print('Fim da iteracao. Apostas atuais: ', apostas)\n",
    "    \n",
    "len(apostas)"
   ]
  },
  {
   "cell_type": "code",
   "execution_count": 163,
   "metadata": {},
   "outputs": [
    {
     "name": "stdout",
     "output_type": "stream",
     "text": [
      "2, 13, 21, 35, 39, 47\n",
      "2, 13, 21, 35, 39, 51\n",
      "2, 13, 21, 35, 47, 51\n",
      "2, 13, 21, 39, 47, 51\n",
      "2, 13, 35, 39, 47, 51\n",
      "2, 21, 35, 39, 47, 51\n",
      "13, 21, 35, 39, 47, 51\n"
     ]
    }
   ],
   "source": [
    "# Conjunto de números fornecido\n",
    "numbers = [2, 13, 21, 35, 39, 47, 51]\n",
    "\n",
    "# Função para verificar se uma combinação cobre todos os arranjos de quatro números\n",
    "def cobre_arranjos(comb):\n",
    "    arranjos = set(combinations(comb, 4))\n",
    "    for arranjo in arranjos:\n",
    "        if arranjo not in set(combinations(numbers, 4)):\n",
    "            return False\n",
    "    return True\n",
    "\n",
    "# Gerar todas as combinações de seis números\n",
    "comb_6 = combinations(numbers, 6)\n",
    "\n",
    "# Verificar cada combinação de seis números\n",
    "arranjos_minimos = []\n",
    "for comb in comb_6:\n",
    "    if cobre_arranjos(comb):\n",
    "        arranjos_minimos.append(comb)\n",
    "\n",
    "# Imprimir os arranjos mínimos encontrados\n",
    "for arranjo in arranjos_minimos:\n",
    "    print(', '.join(map(str, arranjo)))"
   ]
  },
  {
   "cell_type": "code",
   "execution_count": null,
   "metadata": {},
   "outputs": [
    {
     "ename": "TypeError",
     "evalue": "'tuple' object cannot be interpreted as an integer",
     "output_type": "error",
     "traceback": [
      "\u001b[1;31m---------------------------------------------------------------------------\u001b[0m",
      "\u001b[1;31mTypeError\u001b[0m                                 Traceback (most recent call last)",
      "Cell \u001b[1;32mIn[176], line 21\u001b[0m\n\u001b[0;32m     18\u001b[0m     \u001b[38;5;66;03m# Aqui você pode imprimir ou manipular as combinações geradas conforme necessário\u001b[39;00m\n\u001b[0;32m     20\u001b[0m \u001b[38;5;28;01mif\u001b[39;00m \u001b[38;5;18m__name__\u001b[39m \u001b[38;5;241m==\u001b[39m \u001b[38;5;124m\"\u001b[39m\u001b[38;5;124m__main__\u001b[39m\u001b[38;5;124m\"\u001b[39m:\n\u001b[1;32m---> 21\u001b[0m     \u001b[43mmain\u001b[49m\u001b[43m(\u001b[49m\u001b[43m)\u001b[49m\n",
      "Cell \u001b[1;32mIn[176], line 15\u001b[0m, in \u001b[0;36mmain\u001b[1;34m()\u001b[0m\n\u001b[0;32m     13\u001b[0m \u001b[38;5;28;01mdef\u001b[39;00m \u001b[38;5;21mmain\u001b[39m():\n\u001b[0;32m     14\u001b[0m     fechamento \u001b[38;5;241m=\u001b[39m [(\u001b[38;5;241m6\u001b[39m, \u001b[38;5;241m10\u001b[39m), (\u001b[38;5;241m1\u001b[39m, \u001b[38;5;241m12\u001b[39m), (\u001b[38;5;241m2\u001b[39m, \u001b[38;5;241m12\u001b[39m)]  \u001b[38;5;66;03m# Exemplo de fechamento: jogar 6 números em 10 combinações, 1 número em 12 combinações, 2 números em 12 combinações\u001b[39;00m\n\u001b[1;32m---> 15\u001b[0m     combinations \u001b[38;5;241m=\u001b[39m \u001b[43mgenerate_mega_sena_combinations\u001b[49m\u001b[43m(\u001b[49m\u001b[43mfechamento\u001b[49m\u001b[43m)\u001b[49m\n\u001b[0;32m     17\u001b[0m     \u001b[38;5;28mprint\u001b[39m(\u001b[38;5;124mf\u001b[39m\u001b[38;5;124m\"\u001b[39m\u001b[38;5;124mTotal de combinações a jogar: \u001b[39m\u001b[38;5;132;01m{\u001b[39;00m\u001b[38;5;28mlen\u001b[39m(combinations)\u001b[38;5;132;01m}\u001b[39;00m\u001b[38;5;124m\"\u001b[39m)\n",
      "Cell \u001b[1;32mIn[176], line 9\u001b[0m, in \u001b[0;36mgenerate_mega_sena_combinations\u001b[1;34m(fechamento)\u001b[0m\n\u001b[0;32m      6\u001b[0m combinations_to_play \u001b[38;5;241m=\u001b[39m []\n\u001b[0;32m      8\u001b[0m \u001b[38;5;28;01mfor\u001b[39;00m subset \u001b[38;5;129;01min\u001b[39;00m fechamento:\n\u001b[1;32m----> 9\u001b[0m     combinations_to_play\u001b[38;5;241m.\u001b[39mextend(\u001b[43mgenerate_combinations\u001b[49m\u001b[43m(\u001b[49m\u001b[43mall_numbers\u001b[49m\u001b[43m,\u001b[49m\u001b[43m \u001b[49m\u001b[43msubset\u001b[49m\u001b[43m)\u001b[49m)\n\u001b[0;32m     11\u001b[0m \u001b[38;5;28;01mreturn\u001b[39;00m combinations_to_play\n",
      "Cell \u001b[1;32mIn[176], line 2\u001b[0m, in \u001b[0;36mgenerate_combinations\u001b[1;34m(numbers, k)\u001b[0m\n\u001b[0;32m      1\u001b[0m \u001b[38;5;28;01mdef\u001b[39;00m \u001b[38;5;21mgenerate_combinations\u001b[39m(numbers, k):\n\u001b[1;32m----> 2\u001b[0m     \u001b[38;5;28;01mreturn\u001b[39;00m \u001b[38;5;28mlist\u001b[39m(\u001b[43mcombinations\u001b[49m\u001b[43m(\u001b[49m\u001b[43mnumbers\u001b[49m\u001b[43m,\u001b[49m\u001b[43m \u001b[49m\u001b[43mk\u001b[49m\u001b[43m)\u001b[49m)\n",
      "\u001b[1;31mTypeError\u001b[0m: 'tuple' object cannot be interpreted as an integer"
     ]
    }
   ],
   "source": [
    "\n",
    "\n",
    "def generate_combinations(numbers, k):\n",
    "    return list(combinations(numbers, k))\n",
    "\n",
    "def generate_mega_sena_combinations(fechamento):\n",
    "    all_numbers = list(range(1, 61))  # Mega Sena vai de 1 a 60\n",
    "    combinations_to_play = []\n",
    "\n",
    "    for num, quantity in fechamento:\n",
    "        combinations_to_play.extend(generate_combinations(all_numbers, num) * quantity)\n",
    "\n",
    "    return combinations_to_play\n",
    "\n",
    "def main():\n",
    "    fechamento = [(6, 10), (1, 12), (2, 12)]  # Exemplo de fechamento: jogar 6 números em 10 combinações, 1 número em 12 combinações, 2 números em 12 combinações\n",
    "    combinations = generate_mega_sena_combinations(fechamento)\n",
    "    \n",
    "    print(f\"Total de combinações a jogar: {len(combinations)}\")\n",
    "    # Aqui você pode imprimir ou manipular as combinações geradas conforme necessário\n",
    "\n",
    "if __name__ == \"__main__\":\n",
    "    main()\n"
   ]
  },
  {
   "cell_type": "code",
   "execution_count": 1,
   "metadata": {},
   "outputs": [
    {
     "name": "stdout",
     "output_type": "stream",
     "text": [
      "['c:\\\\Program Files\\\\Python312', 'c:\\\\Program Files\\\\Python312\\\\Lib\\\\site-packages']\n"
     ]
    }
   ],
   "source": [
    "import site\n",
    "print(site.getsitepackages())"
   ]
  }
 ],
 "metadata": {
  "kernelspec": {
   "display_name": "Python 3",
   "language": "python",
   "name": "python3"
  },
  "language_info": {
   "codemirror_mode": {
    "name": "ipython",
    "version": 3
   },
   "file_extension": ".py",
   "mimetype": "text/x-python",
   "name": "python",
   "nbconvert_exporter": "python",
   "pygments_lexer": "ipython3",
   "version": "3.12.2"
  }
 },
 "nbformat": 4,
 "nbformat_minor": 2
}
