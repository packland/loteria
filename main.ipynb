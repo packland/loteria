{
 "cells": [
  {
   "cell_type": "markdown",
   "metadata": {},
   "source": [
    "# Main\n",
    "\n",
    "## Referencias\n",
    "https://lotterycodex.com/lottery-formula/\n",
    "https://pypi.org/project/loteria-caixa/#description\n",
    "\n",
    "## Objetivos\n",
    "[x] Criar um gerador de apostas aleatorias\n",
    "[x] Criar um gerador de combinacoes possiveis. Ex. Todas as combinacoes possiveis de 4 dezenas dentro dessas 6 dezenas\n",
    "[] Eliminar as combinacoes repetidas\n",
    "[] Fazer um algoritmo de geração de numeros que considere pares e impares, altos e baixos\n",
    "[x] Pegar todos os resultados da lotofacil\n",
    "[] Gerar um calculador de resultados\n",
    "[] Testar as hipoteses usando os resultados anteriores\n",
    "[] Imprimir as apostas que devem ser feitas "
   ]
  },
  {
   "cell_type": "code",
   "execution_count": 1,
   "metadata": {},
   "outputs": [],
   "source": [
    "# Imports\n",
    "\n",
    "import random\n",
    "from itertools import combinations\n",
    "from loteria_caixa import *"
   ]
  },
  {
   "cell_type": "code",
   "execution_count": 40,
   "metadata": {},
   "outputs": [],
   "source": [
    "# Funcoes\n",
    "\n",
    "def do_generate_bet(dezenas, intervalo=100):\n",
    "    return sorted(random.sample(range(1, intervalo+1), dezenas))\n",
    "\n",
    "def do_calculate_combinations(dezenas, grupamento):\n",
    "    return tuple(sorted(combo) for combo in combinations(dezenas, grupamento))\n",
    "\n",
    "def do_calculate_evens_odds(numeros):\n",
    "    saida = {\n",
    "        'pares': 0,\n",
    "        'impares': 0\n",
    "    }\n",
    "\n",
    "    for numero in numeros:\n",
    "        if numero % 2 == 0:\n",
    "            saida['pares'] += 1\n",
    "        else:\n",
    "            saida['impares'] +=1\n",
    "    \n",
    "    return saida\n",
    "\n",
    "def do_calculate_range_average(intervalo):\n",
    "    if len(intervalo) == 0:\n",
    "        return None\n",
    "    \n",
    "    return round(sum(intervalo)/len(intervalo))\n",
    "\n",
    "def do_calculate_high_low_value(numeros, intervalo=100):\n",
    "    saida = {\n",
    "        'high': 0,\n",
    "        'low': 0\n",
    "    }\n",
    "\n",
    "    media = do_calculate_range_average(range(1, intervalo + 1))\n",
    "\n",
    "    for numero in numeros:\n",
    "        if numero >= media:\n",
    "            saida['high'] += 1\n",
    "        else:\n",
    "            saida['low'] += 1\n",
    "\n",
    "    return saida\n",
    "\n",
    "def verificar_existencia(lista, tupla):\n",
    "    for sublista in tupla:\n",
    "        if set(lista).issubset(sublista):\n",
    "            return True\n",
    "    return False\n"
   ]
  },
  {
   "cell_type": "code",
   "execution_count": 48,
   "metadata": {},
   "outputs": [
    {
     "name": "stdout",
     "output_type": "stream",
     "text": [
      "[2, 3, 4, 5, 7, 9, 10, 13, 14, 15, 16, 20, 22, 24, 25] {'pares': 8, 'impares': 7} {'high': 8, 'low': 7}\n"
     ]
    }
   ],
   "source": [
    "# testes\n",
    "\n",
    "aposta = do_generate_bet(15, 25)\n",
    "\n",
    "par_impar = do_calculate_evens_odds(aposta)\n",
    "high_low = do_calculate_high_low_value(aposta, 25)\n",
    "\n",
    "print(aposta, par_impar, high_low)\n",
    "\n"
   ]
  },
  {
   "cell_type": "code",
   "execution_count": 9,
   "metadata": {},
   "outputs": [
    {
     "name": "stdout",
     "output_type": "stream",
     "text": [
      "['02', '03', '05', '06', '09', '10', '11', '13', '14', '16', '18', '20', '23', '24', '25']\n",
      "['01', '04', '05', '06', '07', '09', '11', '12', '13', '15', '16', '19', '20', '23', '24']\n"
     ]
    },
    {
     "ename": "KeyError",
     "evalue": "'listaDezenas'",
     "output_type": "error",
     "traceback": [
      "\u001b[1;31m---------------------------------------------------------------------------\u001b[0m",
      "\u001b[1;31mKeyError\u001b[0m                                  Traceback (most recent call last)",
      "Cell \u001b[1;32mIn[9], line 6\u001b[0m\n\u001b[0;32m      4\u001b[0m \u001b[38;5;28;01mfor\u001b[39;00m concurso \u001b[38;5;129;01min\u001b[39;00m \u001b[38;5;28mrange\u001b[39m(\u001b[38;5;241m1\u001b[39m, ultimo_concurso \u001b[38;5;241m+\u001b[39m \u001b[38;5;241m1\u001b[39m):\n\u001b[0;32m      5\u001b[0m     sorteio \u001b[38;5;241m=\u001b[39m LotoFacil(concurso)\n\u001b[1;32m----> 6\u001b[0m     \u001b[38;5;28mprint\u001b[39m(\u001b[43msorteio\u001b[49m\u001b[38;5;241;43m.\u001b[39;49m\u001b[43mlistaDezenas\u001b[49m\u001b[43m(\u001b[49m\u001b[43m)\u001b[49m)\n",
      "File \u001b[1;32mc:\\Program Files\\Python312\\Lib\\site-packages\\loteria_caixa\\__init__.py:200\u001b[0m, in \u001b[0;36mLotoFacil.listaDezenas\u001b[1;34m(self)\u001b[0m\n\u001b[0;32m    199\u001b[0m \u001b[38;5;28;01mdef\u001b[39;00m \u001b[38;5;21mlistaDezenas\u001b[39m(\u001b[38;5;28mself\u001b[39m):\n\u001b[1;32m--> 200\u001b[0m     \u001b[38;5;28;01mreturn\u001b[39;00m \u001b[38;5;28;43mself\u001b[39;49m\u001b[38;5;241;43m.\u001b[39;49m\u001b[43mtodosDados\u001b[49m\u001b[43m(\u001b[49m\u001b[43m)\u001b[49m\u001b[43m[\u001b[49m\u001b[38;5;124;43m'\u001b[39;49m\u001b[38;5;124;43mlistaDezenas\u001b[39;49m\u001b[38;5;124;43m'\u001b[39;49m\u001b[43m]\u001b[49m\n",
      "\u001b[1;31mKeyError\u001b[0m: 'listaDezenas'"
     ]
    }
   ],
   "source": [
    "abra \n"
   ]
  },
  {
   "cell_type": "code",
   "execution_count": null,
   "metadata": {},
   "outputs": [],
   "source": [
    "apostas = combinacoes_possiveis\n",
    "\n",
    "for quina in combinacoes_quina"
   ]
  },
  {
   "cell_type": "code",
   "execution_count": 173,
   "metadata": {},
   "outputs": [
    {
     "name": "stdout",
     "output_type": "stream",
     "text": [
      "------------nova iteracao quina --------------\n",
      "apostas:  []\n",
      "quina:  [2, 13, 21, 35, 39]\n",
      "ja contemplada:  False\n",
      "Fim da iteracao. Apostas atuais:  [[2, 13, 21, 35, 39, 47]]\n",
      "------------nova iteracao quina --------------\n",
      "apostas:  [[2, 13, 21, 35, 39, 47]]\n",
      "quina:  [2, 13, 21, 35, 47]\n",
      "ja contemplada:  True\n",
      "Fim da iteracao. Apostas atuais:  [[2, 13, 21, 35, 39, 47]]\n",
      "------------nova iteracao quina --------------\n",
      "apostas:  [[2, 13, 21, 35, 39, 47]]\n",
      "quina:  [2, 13, 21, 35, 51]\n",
      "ja contemplada:  False\n",
      "Fim da iteracao. Apostas atuais:  [[2, 13, 21, 35, 39, 47], [2, 13, 21, 35, 39, 51]]\n",
      "------------nova iteracao quina --------------\n",
      "apostas:  [[2, 13, 21, 35, 39, 47], [2, 13, 21, 35, 39, 51]]\n",
      "quina:  [2, 13, 21, 39, 47]\n",
      "ja contemplada:  True\n",
      "Fim da iteracao. Apostas atuais:  [[2, 13, 21, 35, 39, 47], [2, 13, 21, 35, 39, 51]]\n",
      "------------nova iteracao quina --------------\n",
      "apostas:  [[2, 13, 21, 35, 39, 47], [2, 13, 21, 35, 39, 51]]\n",
      "quina:  [2, 13, 21, 39, 51]\n",
      "ja contemplada:  True\n",
      "Fim da iteracao. Apostas atuais:  [[2, 13, 21, 35, 39, 47], [2, 13, 21, 35, 39, 51]]\n",
      "------------nova iteracao quina --------------\n",
      "apostas:  [[2, 13, 21, 35, 39, 47], [2, 13, 21, 35, 39, 51]]\n",
      "quina:  [2, 13, 21, 47, 51]\n",
      "ja contemplada:  False\n",
      "Fim da iteracao. Apostas atuais:  [[2, 13, 21, 35, 39, 47], [2, 13, 21, 35, 39, 51], [2, 13, 21, 35, 47, 51]]\n",
      "------------nova iteracao quina --------------\n",
      "apostas:  [[2, 13, 21, 35, 39, 47], [2, 13, 21, 35, 39, 51], [2, 13, 21, 35, 47, 51]]\n",
      "quina:  [2, 13, 35, 39, 47]\n",
      "ja contemplada:  True\n",
      "Fim da iteracao. Apostas atuais:  [[2, 13, 21, 35, 39, 47], [2, 13, 21, 35, 39, 51], [2, 13, 21, 35, 47, 51]]\n",
      "------------nova iteracao quina --------------\n",
      "apostas:  [[2, 13, 21, 35, 39, 47], [2, 13, 21, 35, 39, 51], [2, 13, 21, 35, 47, 51]]\n",
      "quina:  [2, 13, 35, 39, 51]\n",
      "ja contemplada:  True\n",
      "Fim da iteracao. Apostas atuais:  [[2, 13, 21, 35, 39, 47], [2, 13, 21, 35, 39, 51], [2, 13, 21, 35, 47, 51]]\n",
      "------------nova iteracao quina --------------\n",
      "apostas:  [[2, 13, 21, 35, 39, 47], [2, 13, 21, 35, 39, 51], [2, 13, 21, 35, 47, 51]]\n",
      "quina:  [2, 13, 35, 47, 51]\n",
      "ja contemplada:  True\n",
      "Fim da iteracao. Apostas atuais:  [[2, 13, 21, 35, 39, 47], [2, 13, 21, 35, 39, 51], [2, 13, 21, 35, 47, 51]]\n",
      "------------nova iteracao quina --------------\n",
      "apostas:  [[2, 13, 21, 35, 39, 47], [2, 13, 21, 35, 39, 51], [2, 13, 21, 35, 47, 51]]\n",
      "quina:  [2, 13, 39, 47, 51]\n",
      "ja contemplada:  False\n",
      "Fim da iteracao. Apostas atuais:  [[2, 13, 21, 35, 39, 47], [2, 13, 21, 35, 39, 51], [2, 13, 21, 35, 47, 51], [2, 13, 21, 39, 47, 51]]\n",
      "------------nova iteracao quina --------------\n",
      "apostas:  [[2, 13, 21, 35, 39, 47], [2, 13, 21, 35, 39, 51], [2, 13, 21, 35, 47, 51], [2, 13, 21, 39, 47, 51]]\n",
      "quina:  [2, 21, 35, 39, 47]\n",
      "ja contemplada:  True\n",
      "Fim da iteracao. Apostas atuais:  [[2, 13, 21, 35, 39, 47], [2, 13, 21, 35, 39, 51], [2, 13, 21, 35, 47, 51], [2, 13, 21, 39, 47, 51]]\n",
      "------------nova iteracao quina --------------\n",
      "apostas:  [[2, 13, 21, 35, 39, 47], [2, 13, 21, 35, 39, 51], [2, 13, 21, 35, 47, 51], [2, 13, 21, 39, 47, 51]]\n",
      "quina:  [2, 21, 35, 39, 51]\n",
      "ja contemplada:  True\n",
      "Fim da iteracao. Apostas atuais:  [[2, 13, 21, 35, 39, 47], [2, 13, 21, 35, 39, 51], [2, 13, 21, 35, 47, 51], [2, 13, 21, 39, 47, 51]]\n",
      "------------nova iteracao quina --------------\n",
      "apostas:  [[2, 13, 21, 35, 39, 47], [2, 13, 21, 35, 39, 51], [2, 13, 21, 35, 47, 51], [2, 13, 21, 39, 47, 51]]\n",
      "quina:  [2, 21, 35, 47, 51]\n",
      "ja contemplada:  True\n",
      "Fim da iteracao. Apostas atuais:  [[2, 13, 21, 35, 39, 47], [2, 13, 21, 35, 39, 51], [2, 13, 21, 35, 47, 51], [2, 13, 21, 39, 47, 51]]\n",
      "------------nova iteracao quina --------------\n",
      "apostas:  [[2, 13, 21, 35, 39, 47], [2, 13, 21, 35, 39, 51], [2, 13, 21, 35, 47, 51], [2, 13, 21, 39, 47, 51]]\n",
      "quina:  [2, 21, 39, 47, 51]\n",
      "ja contemplada:  True\n",
      "Fim da iteracao. Apostas atuais:  [[2, 13, 21, 35, 39, 47], [2, 13, 21, 35, 39, 51], [2, 13, 21, 35, 47, 51], [2, 13, 21, 39, 47, 51]]\n",
      "------------nova iteracao quina --------------\n",
      "apostas:  [[2, 13, 21, 35, 39, 47], [2, 13, 21, 35, 39, 51], [2, 13, 21, 35, 47, 51], [2, 13, 21, 39, 47, 51]]\n",
      "quina:  [2, 35, 39, 47, 51]\n",
      "ja contemplada:  False\n",
      "Fim da iteracao. Apostas atuais:  [[2, 13, 21, 35, 39, 47], [2, 13, 21, 35, 39, 51], [2, 13, 21, 35, 47, 51], [2, 13, 21, 39, 47, 51], [2, 13, 35, 39, 47, 51]]\n",
      "------------nova iteracao quina --------------\n",
      "apostas:  [[2, 13, 21, 35, 39, 47], [2, 13, 21, 35, 39, 51], [2, 13, 21, 35, 47, 51], [2, 13, 21, 39, 47, 51], [2, 13, 35, 39, 47, 51]]\n",
      "quina:  [13, 21, 35, 39, 47]\n",
      "ja contemplada:  True\n",
      "Fim da iteracao. Apostas atuais:  [[2, 13, 21, 35, 39, 47], [2, 13, 21, 35, 39, 51], [2, 13, 21, 35, 47, 51], [2, 13, 21, 39, 47, 51], [2, 13, 35, 39, 47, 51]]\n",
      "------------nova iteracao quina --------------\n",
      "apostas:  [[2, 13, 21, 35, 39, 47], [2, 13, 21, 35, 39, 51], [2, 13, 21, 35, 47, 51], [2, 13, 21, 39, 47, 51], [2, 13, 35, 39, 47, 51]]\n",
      "quina:  [13, 21, 35, 39, 51]\n",
      "ja contemplada:  True\n",
      "Fim da iteracao. Apostas atuais:  [[2, 13, 21, 35, 39, 47], [2, 13, 21, 35, 39, 51], [2, 13, 21, 35, 47, 51], [2, 13, 21, 39, 47, 51], [2, 13, 35, 39, 47, 51]]\n",
      "------------nova iteracao quina --------------\n",
      "apostas:  [[2, 13, 21, 35, 39, 47], [2, 13, 21, 35, 39, 51], [2, 13, 21, 35, 47, 51], [2, 13, 21, 39, 47, 51], [2, 13, 35, 39, 47, 51]]\n",
      "quina:  [13, 21, 35, 47, 51]\n",
      "ja contemplada:  True\n",
      "Fim da iteracao. Apostas atuais:  [[2, 13, 21, 35, 39, 47], [2, 13, 21, 35, 39, 51], [2, 13, 21, 35, 47, 51], [2, 13, 21, 39, 47, 51], [2, 13, 35, 39, 47, 51]]\n",
      "------------nova iteracao quina --------------\n",
      "apostas:  [[2, 13, 21, 35, 39, 47], [2, 13, 21, 35, 39, 51], [2, 13, 21, 35, 47, 51], [2, 13, 21, 39, 47, 51], [2, 13, 35, 39, 47, 51]]\n",
      "quina:  [13, 21, 39, 47, 51]\n",
      "ja contemplada:  True\n",
      "Fim da iteracao. Apostas atuais:  [[2, 13, 21, 35, 39, 47], [2, 13, 21, 35, 39, 51], [2, 13, 21, 35, 47, 51], [2, 13, 21, 39, 47, 51], [2, 13, 35, 39, 47, 51]]\n",
      "------------nova iteracao quina --------------\n",
      "apostas:  [[2, 13, 21, 35, 39, 47], [2, 13, 21, 35, 39, 51], [2, 13, 21, 35, 47, 51], [2, 13, 21, 39, 47, 51], [2, 13, 35, 39, 47, 51]]\n",
      "quina:  [13, 35, 39, 47, 51]\n",
      "ja contemplada:  True\n",
      "Fim da iteracao. Apostas atuais:  [[2, 13, 21, 35, 39, 47], [2, 13, 21, 35, 39, 51], [2, 13, 21, 35, 47, 51], [2, 13, 21, 39, 47, 51], [2, 13, 35, 39, 47, 51]]\n",
      "------------nova iteracao quina --------------\n",
      "apostas:  [[2, 13, 21, 35, 39, 47], [2, 13, 21, 35, 39, 51], [2, 13, 21, 35, 47, 51], [2, 13, 21, 39, 47, 51], [2, 13, 35, 39, 47, 51]]\n",
      "quina:  [21, 35, 39, 47, 51]\n",
      "ja contemplada:  False\n",
      "Fim da iteracao. Apostas atuais:  [[2, 13, 21, 35, 39, 47], [2, 13, 21, 35, 39, 51], [2, 13, 21, 35, 47, 51], [2, 13, 21, 39, 47, 51], [2, 13, 35, 39, 47, 51], [2, 21, 35, 39, 47, 51]]\n"
     ]
    },
    {
     "data": {
      "text/plain": [
       "6"
      ]
     },
     "execution_count": 173,
     "metadata": {},
     "output_type": "execute_result"
    }
   ],
   "source": [
    "apostas = []\n",
    "# processamento das quinas\n",
    "for quina in combinacoes_quina:\n",
    "    print('------------nova iteracao quina --------------')\n",
    "    ja_contemplada = False\n",
    "    #checa se a quina já está contemplada na lista\n",
    "    for aposta in apostas:\n",
    "        if set(quina).issubset(aposta):\n",
    "            ja_contemplada = True\n",
    "            \n",
    "    \n",
    "    # nao foi contemplada, vamos iterar pelas senas e adicionar a primeira que servir\n",
    "    print('apostas: ', apostas)\n",
    "    print('quina: ', quina)\n",
    "    print('ja contemplada: ', ja_contemplada)\n",
    "    if(not ja_contemplada):\n",
    "        ja_adicionada = False\n",
    "        for sena in combinacoes_sena:\n",
    "            if(set(quina).issubset(sena) and not ja_adicionada ):\n",
    "                apostas.append(sena)\n",
    "                ja_adicionada = True\n",
    "    print('Fim da iteracao. Apostas atuais: ', apostas)\n",
    "    \n",
    "len(apostas)"
   ]
  },
  {
   "cell_type": "code",
   "execution_count": 163,
   "metadata": {},
   "outputs": [
    {
     "name": "stdout",
     "output_type": "stream",
     "text": [
      "2, 13, 21, 35, 39, 47\n",
      "2, 13, 21, 35, 39, 51\n",
      "2, 13, 21, 35, 47, 51\n",
      "2, 13, 21, 39, 47, 51\n",
      "2, 13, 35, 39, 47, 51\n",
      "2, 21, 35, 39, 47, 51\n",
      "13, 21, 35, 39, 47, 51\n"
     ]
    }
   ],
   "source": [
    "# Conjunto de números fornecido\n",
    "numbers = [2, 13, 21, 35, 39, 47, 51]\n",
    "\n",
    "# Função para verificar se uma combinação cobre todos os arranjos de quatro números\n",
    "def cobre_arranjos(comb):\n",
    "    arranjos = set(combinations(comb, 4))\n",
    "    for arranjo in arranjos:\n",
    "        if arranjo not in set(combinations(numbers, 4)):\n",
    "            return False\n",
    "    return True\n",
    "\n",
    "# Gerar todas as combinações de seis números\n",
    "comb_6 = combinations(numbers, 6)\n",
    "\n",
    "# Verificar cada combinação de seis números\n",
    "arranjos_minimos = []\n",
    "for comb in comb_6:\n",
    "    if cobre_arranjos(comb):\n",
    "        arranjos_minimos.append(comb)\n",
    "\n",
    "# Imprimir os arranjos mínimos encontrados\n",
    "for arranjo in arranjos_minimos:\n",
    "    print(', '.join(map(str, arranjo)))"
   ]
  },
  {
   "cell_type": "code",
   "execution_count": null,
   "metadata": {},
   "outputs": [
    {
     "ename": "TypeError",
     "evalue": "'tuple' object cannot be interpreted as an integer",
     "output_type": "error",
     "traceback": [
      "\u001b[1;31m---------------------------------------------------------------------------\u001b[0m",
      "\u001b[1;31mTypeError\u001b[0m                                 Traceback (most recent call last)",
      "Cell \u001b[1;32mIn[176], line 21\u001b[0m\n\u001b[0;32m     18\u001b[0m     \u001b[38;5;66;03m# Aqui você pode imprimir ou manipular as combinações geradas conforme necessário\u001b[39;00m\n\u001b[0;32m     20\u001b[0m \u001b[38;5;28;01mif\u001b[39;00m \u001b[38;5;18m__name__\u001b[39m \u001b[38;5;241m==\u001b[39m \u001b[38;5;124m\"\u001b[39m\u001b[38;5;124m__main__\u001b[39m\u001b[38;5;124m\"\u001b[39m:\n\u001b[1;32m---> 21\u001b[0m     \u001b[43mmain\u001b[49m\u001b[43m(\u001b[49m\u001b[43m)\u001b[49m\n",
      "Cell \u001b[1;32mIn[176], line 15\u001b[0m, in \u001b[0;36mmain\u001b[1;34m()\u001b[0m\n\u001b[0;32m     13\u001b[0m \u001b[38;5;28;01mdef\u001b[39;00m \u001b[38;5;21mmain\u001b[39m():\n\u001b[0;32m     14\u001b[0m     fechamento \u001b[38;5;241m=\u001b[39m [(\u001b[38;5;241m6\u001b[39m, \u001b[38;5;241m10\u001b[39m), (\u001b[38;5;241m1\u001b[39m, \u001b[38;5;241m12\u001b[39m), (\u001b[38;5;241m2\u001b[39m, \u001b[38;5;241m12\u001b[39m)]  \u001b[38;5;66;03m# Exemplo de fechamento: jogar 6 números em 10 combinações, 1 número em 12 combinações, 2 números em 12 combinações\u001b[39;00m\n\u001b[1;32m---> 15\u001b[0m     combinations \u001b[38;5;241m=\u001b[39m \u001b[43mgenerate_mega_sena_combinations\u001b[49m\u001b[43m(\u001b[49m\u001b[43mfechamento\u001b[49m\u001b[43m)\u001b[49m\n\u001b[0;32m     17\u001b[0m     \u001b[38;5;28mprint\u001b[39m(\u001b[38;5;124mf\u001b[39m\u001b[38;5;124m\"\u001b[39m\u001b[38;5;124mTotal de combinações a jogar: \u001b[39m\u001b[38;5;132;01m{\u001b[39;00m\u001b[38;5;28mlen\u001b[39m(combinations)\u001b[38;5;132;01m}\u001b[39;00m\u001b[38;5;124m\"\u001b[39m)\n",
      "Cell \u001b[1;32mIn[176], line 9\u001b[0m, in \u001b[0;36mgenerate_mega_sena_combinations\u001b[1;34m(fechamento)\u001b[0m\n\u001b[0;32m      6\u001b[0m combinations_to_play \u001b[38;5;241m=\u001b[39m []\n\u001b[0;32m      8\u001b[0m \u001b[38;5;28;01mfor\u001b[39;00m subset \u001b[38;5;129;01min\u001b[39;00m fechamento:\n\u001b[1;32m----> 9\u001b[0m     combinations_to_play\u001b[38;5;241m.\u001b[39mextend(\u001b[43mgenerate_combinations\u001b[49m\u001b[43m(\u001b[49m\u001b[43mall_numbers\u001b[49m\u001b[43m,\u001b[49m\u001b[43m \u001b[49m\u001b[43msubset\u001b[49m\u001b[43m)\u001b[49m)\n\u001b[0;32m     11\u001b[0m \u001b[38;5;28;01mreturn\u001b[39;00m combinations_to_play\n",
      "Cell \u001b[1;32mIn[176], line 2\u001b[0m, in \u001b[0;36mgenerate_combinations\u001b[1;34m(numbers, k)\u001b[0m\n\u001b[0;32m      1\u001b[0m \u001b[38;5;28;01mdef\u001b[39;00m \u001b[38;5;21mgenerate_combinations\u001b[39m(numbers, k):\n\u001b[1;32m----> 2\u001b[0m     \u001b[38;5;28;01mreturn\u001b[39;00m \u001b[38;5;28mlist\u001b[39m(\u001b[43mcombinations\u001b[49m\u001b[43m(\u001b[49m\u001b[43mnumbers\u001b[49m\u001b[43m,\u001b[49m\u001b[43m \u001b[49m\u001b[43mk\u001b[49m\u001b[43m)\u001b[49m)\n",
      "\u001b[1;31mTypeError\u001b[0m: 'tuple' object cannot be interpreted as an integer"
     ]
    }
   ],
   "source": [
    "\n",
    "\n",
    "def generate_combinations(numbers, k):\n",
    "    return list(combinations(numbers, k))\n",
    "\n",
    "def generate_mega_sena_combinations(fechamento):\n",
    "    all_numbers = list(range(1, 61))  # Mega Sena vai de 1 a 60\n",
    "    combinations_to_play = []\n",
    "\n",
    "    for num, quantity in fechamento:\n",
    "        combinations_to_play.extend(generate_combinations(all_numbers, num) * quantity)\n",
    "\n",
    "    return combinations_to_play\n",
    "\n",
    "def main():\n",
    "    fechamento = [(6, 10), (1, 12), (2, 12)]  # Exemplo de fechamento: jogar 6 números em 10 combinações, 1 número em 12 combinações, 2 números em 12 combinações\n",
    "    combinations = generate_mega_sena_combinations(fechamento)\n",
    "    \n",
    "    print(f\"Total de combinações a jogar: {len(combinations)}\")\n",
    "    # Aqui você pode imprimir ou manipular as combinações geradas conforme necessário\n",
    "\n",
    "if __name__ == \"__main__\":\n",
    "    main()\n"
   ]
  },
  {
   "cell_type": "code",
   "execution_count": 1,
   "metadata": {},
   "outputs": [
    {
     "name": "stdout",
     "output_type": "stream",
     "text": [
      "['c:\\\\Program Files\\\\Python312', 'c:\\\\Program Files\\\\Python312\\\\Lib\\\\site-packages']\n"
     ]
    }
   ],
   "source": [
    "import site\n",
    "print(site.getsitepackages())"
   ]
  }
 ],
 "metadata": {
  "kernelspec": {
   "display_name": "Python 3",
   "language": "python",
   "name": "python3"
  },
  "language_info": {
   "codemirror_mode": {
    "name": "ipython",
    "version": 3
   },
   "file_extension": ".py",
   "mimetype": "text/x-python",
   "name": "python",
   "nbconvert_exporter": "python",
   "pygments_lexer": "ipython3",
   "version": "3.12.2"
  }
 },
 "nbformat": 4,
 "nbformat_minor": 2
}
