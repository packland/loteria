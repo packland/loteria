{
 "cells": [
  {
   "cell_type": "code",
   "execution_count": 4,
   "metadata": {},
   "outputs": [],
   "source": [
    "import pandas as pd"
   ]
  },
  {
   "cell_type": "code",
   "execution_count": 20,
   "metadata": {},
   "outputs": [
    {
     "data": {
      "text/html": [
       "<div>\n",
       "<style scoped>\n",
       "    .dataframe tbody tr th:only-of-type {\n",
       "        vertical-align: middle;\n",
       "    }\n",
       "\n",
       "    .dataframe tbody tr th {\n",
       "        vertical-align: top;\n",
       "    }\n",
       "\n",
       "    .dataframe thead th {\n",
       "        text-align: right;\n",
       "    }\n",
       "</style>\n",
       "<table border=\"1\" class=\"dataframe\">\n",
       "  <thead>\n",
       "    <tr style=\"text-align: right;\">\n",
       "      <th></th>\n",
       "      <th>sorteio</th>\n",
       "      <th>dezenas</th>\n",
       "    </tr>\n",
       "  </thead>\n",
       "  <tbody>\n",
       "    <tr>\n",
       "      <th>0</th>\n",
       "      <td>3055</td>\n",
       "      <td>02,03,07,08,09,10,11,12,14,15,17,20,21,22,23</td>\n",
       "    </tr>\n",
       "    <tr>\n",
       "      <th>1</th>\n",
       "      <td>3054</td>\n",
       "      <td>01,02,04,08,09,10,14,15,18,19,20,21,22,23,24</td>\n",
       "    </tr>\n",
       "    <tr>\n",
       "      <th>2</th>\n",
       "      <td>3053</td>\n",
       "      <td>02,04,05,07,08,12,13,14,16,17,18,19,21,22,23</td>\n",
       "    </tr>\n",
       "    <tr>\n",
       "      <th>3</th>\n",
       "      <td>3052</td>\n",
       "      <td>02,03,04,08,09,10,11,14,15,18,19,20,21,23,24</td>\n",
       "    </tr>\n",
       "    <tr>\n",
       "      <th>4</th>\n",
       "      <td>3051</td>\n",
       "      <td>02,03,04,06,09,10,11,12,15,17,18,20,21,22,25</td>\n",
       "    </tr>\n",
       "    <tr>\n",
       "      <th>...</th>\n",
       "      <td>...</td>\n",
       "      <td>...</td>\n",
       "    </tr>\n",
       "    <tr>\n",
       "      <th>3050</th>\n",
       "      <td>5</td>\n",
       "      <td>01,02,04,08,09,11,12,13,15,16,19,20,23,24,25</td>\n",
       "    </tr>\n",
       "    <tr>\n",
       "      <th>3051</th>\n",
       "      <td>4</td>\n",
       "      <td>01,02,04,05,08,10,12,13,16,17,18,19,23,24,25</td>\n",
       "    </tr>\n",
       "    <tr>\n",
       "      <th>3052</th>\n",
       "      <td>3</td>\n",
       "      <td>01,04,06,07,08,09,10,11,12,14,16,17,20,23,24</td>\n",
       "    </tr>\n",
       "    <tr>\n",
       "      <th>3053</th>\n",
       "      <td>2</td>\n",
       "      <td>01,04,05,06,07,09,11,12,13,15,16,19,20,23,24</td>\n",
       "    </tr>\n",
       "    <tr>\n",
       "      <th>3054</th>\n",
       "      <td>1</td>\n",
       "      <td>02,03,05,06,09,10,11,13,14,16,18,20,23,24,25</td>\n",
       "    </tr>\n",
       "  </tbody>\n",
       "</table>\n",
       "<p>3055 rows × 2 columns</p>\n",
       "</div>"
      ],
      "text/plain": [
       "      sorteio                                       dezenas\n",
       "0        3055  02,03,07,08,09,10,11,12,14,15,17,20,21,22,23\n",
       "1        3054  01,02,04,08,09,10,14,15,18,19,20,21,22,23,24\n",
       "2        3053  02,04,05,07,08,12,13,14,16,17,18,19,21,22,23\n",
       "3        3052  02,03,04,08,09,10,11,14,15,18,19,20,21,23,24\n",
       "4        3051  02,03,04,06,09,10,11,12,15,17,18,20,21,22,25\n",
       "...       ...                                           ...\n",
       "3050        5  01,02,04,08,09,11,12,13,15,16,19,20,23,24,25\n",
       "3051        4  01,02,04,05,08,10,12,13,16,17,18,19,23,24,25\n",
       "3052        3  01,04,06,07,08,09,10,11,12,14,16,17,20,23,24\n",
       "3053        2  01,04,05,06,07,09,11,12,13,15,16,19,20,23,24\n",
       "3054        1  02,03,05,06,09,10,11,13,14,16,18,20,23,24,25\n",
       "\n",
       "[3055 rows x 2 columns]"
      ]
     },
     "execution_count": 20,
     "metadata": {},
     "output_type": "execute_result"
    }
   ],
   "source": [
    "arquivo = 'resultados_lotofacil.csv'\n",
    "\n",
    "df = pd.read_csv(arquivo)\n",
    "\n",
    "df\n",
    "\n",
    "#df.to_csv('resultados_lotofacil.csv', index=False)"
   ]
  }
 ],
 "metadata": {
  "kernelspec": {
   "display_name": "Python 3",
   "language": "python",
   "name": "python3"
  },
  "language_info": {
   "codemirror_mode": {
    "name": "ipython",
    "version": 3
   },
   "file_extension": ".py",
   "mimetype": "text/x-python",
   "name": "python",
   "nbconvert_exporter": "python",
   "pygments_lexer": "ipython3",
   "version": "3.12.2"
  }
 },
 "nbformat": 4,
 "nbformat_minor": 2
}
